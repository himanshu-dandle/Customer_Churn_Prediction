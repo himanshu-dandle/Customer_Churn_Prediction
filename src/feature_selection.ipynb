{
 "cells": [
  {
   "cell_type": "code",
   "execution_count": 1,
   "id": "d5111eeb",
   "metadata": {},
   "outputs": [],
   "source": [
    "from sklearn.ensemble import RandomForestClassifier\n",
    "from sklearn.feature_selection import SelectFromModel\n",
    "\n",
    "def select_features(data):\n",
    "    # Prepare features and target\n",
    "    X = data.drop('Churn', axis=1)\n",
    "    y = data['Churn']\n",
    "\n",
    "    # Feature selection using RandomForest\n",
    "    model = RandomForestClassifier(random_state=42)\n",
    "    model.fit(X, y)\n",
    "\n",
    "    # Select important features\n",
    "    sel = SelectFromModel(model, prefit=True)\n",
    "    selected_features = X.columns[(sel.get_support())]\n",
    "\n",
    "    return selected_features.tolist()\n"
   ]
  },
  {
   "cell_type": "code",
   "execution_count": null,
   "id": "f1374da4",
   "metadata": {},
   "outputs": [],
   "source": []
  }
 ],
 "metadata": {
  "kernelspec": {
   "display_name": "Python 3 (ipykernel)",
   "language": "python",
   "name": "python3"
  },
  "language_info": {
   "codemirror_mode": {
    "name": "ipython",
    "version": 3
   },
   "file_extension": ".py",
   "mimetype": "text/x-python",
   "name": "python",
   "nbconvert_exporter": "python",
   "pygments_lexer": "ipython3",
   "version": "3.11.5"
  }
 },
 "nbformat": 4,
 "nbformat_minor": 5
}

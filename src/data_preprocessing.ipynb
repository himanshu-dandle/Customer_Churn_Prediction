{
 "cells": [
  {
   "cell_type": "code",
   "execution_count": 2,
   "id": "c46f5cf5",
   "metadata": {},
   "outputs": [],
   "source": [
    "import pandas as pd\n",
    "from sklearn.preprocessing import LabelEncoder, StandardScaler\n",
    "\n",
    "def preprocess_data(train_path, validation_path):\n",
    "    # Load datasets\n",
    "    train_data = pd.read_csv(train_path)\n",
    "    validation_data = pd.read_csv(validation_path)\n",
    "\n",
    "    # Encode categorical features\n",
    "    label_encoder = LabelEncoder()\n",
    "    train_data['State'] = label_encoder.fit_transform(train_data['State'])\n",
    "    train_data['International plan'] = train_data['International plan'].apply(lambda x: 1 if x == 'Yes' else 0)\n",
    "    train_data['Voice mail plan'] = train_data['Voice mail plan'].apply(lambda x: 1 if x == 'Yes' else 0)\n",
    "\n",
    "    # Encode the target variable\n",
    "    train_data['Churn'] = label_encoder.fit_transform(train_data['Churn'])\n",
    "\n",
    "    # Scale numerical features\n",
    "    scaler = StandardScaler()\n",
    "    numerical_features = ['Account length', 'Total day minutes', 'Total eve minutes', 'Total night minutes',\n",
    "                          'Total intl minutes', 'Total day calls', 'Total eve calls', 'Total night calls', \n",
    "                          'Total intl calls', 'Total day charge', 'Total eve charge', 'Total night charge', \n",
    "                          'Total intl charge', 'Customer service calls']\n",
    "    train_data[numerical_features] = scaler.fit_transform(train_data[numerical_features])\n",
    "\n",
    "    return train_data\n",
    "\n"
   ]
  },
  {
   "cell_type": "code",
   "execution_count": null,
   "id": "58717be6",
   "metadata": {},
   "outputs": [],
   "source": []
  }
 ],
 "metadata": {
  "kernelspec": {
   "display_name": "Python 3 (ipykernel)",
   "language": "python",
   "name": "python3"
  },
  "language_info": {
   "codemirror_mode": {
    "name": "ipython",
    "version": 3
   },
   "file_extension": ".py",
   "mimetype": "text/x-python",
   "name": "python",
   "nbconvert_exporter": "python",
   "pygments_lexer": "ipython3",
   "version": "3.11.5"
  }
 },
 "nbformat": 4,
 "nbformat_minor": 5
}
